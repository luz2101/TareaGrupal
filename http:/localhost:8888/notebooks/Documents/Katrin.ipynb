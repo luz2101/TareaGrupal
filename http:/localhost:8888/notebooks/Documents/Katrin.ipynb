http://localhost:8888/notebooks/Documents/Katrin.ipynb

